{
 "cells": [
  {
   "cell_type": "markdown",
   "metadata": {},
   "source": [
    "# Olivin Example\n",
    "\n",
    "Import the needed packages"
   ]
  },
  {
   "cell_type": "code",
   "execution_count": null,
   "metadata": {},
   "outputs": [],
   "source": [
    "import phasefield_gps as gps\n",
    "import ngsolve as ngs\n",
    "from ngsolve.meshes import MakeStructured2DMesh\n",
    "from ngsolve.webgui import Draw"
   ]
  },
  {
   "cell_type": "markdown",
   "metadata": {},
   "source": [
    "We use ngsolve to create a structured quad-mesh of our simulation domain:"
   ]
  },
  {
   "cell_type": "code",
   "execution_count": null,
   "metadata": {},
   "outputs": [],
   "source": [
    "mesh = MakeStructured2DMesh(nx=100, ny=10, mapping=lambda x,y: (1e-3*x-5e-4, 1e-4*y))\n",
    "Draw(mesh)"
   ]
  },
  {
   "cell_type": "markdown",
   "metadata": {},
   "source": [
    "Define phases, each phase needs a name and its diffusion coefficient:"
   ]
  },
  {
   "cell_type": "code",
   "execution_count": null,
   "metadata": {},
   "outputs": [],
   "source": [
    "liquid = gps.Phase(\"liquid\", diffusion_coefficient=3e-7)\n",
    "solid = gps.Phase(\"solid\", diffusion_coefficient=3e-12)"
   ]
  },
  {
   "cell_type": "markdown",
   "metadata": {},
   "source": [
    "We model our components as ideal solutions, each component gets a name and phase energies for each of the phases we use:"
   ]
  },
  {
   "cell_type": "code",
   "execution_count": null,
   "metadata": {},
   "outputs": [],
   "source": [
    "fosterite = gps.IdealSolutionComponent(name=\"fosterite\",\n",
    "                                       phase_energies={ liquid: -2498560,\n",
    "                                                        solid: -2509411 })\n",
    "fayalite = gps.IdealSolutionComponent(name=\"Fayalite\",\n",
    "                                      phase_energies={ liquid: -1980885,\n",
    "                                                       solid: -1951843 })"
   ]
  },
  {
   "cell_type": "markdown",
   "metadata": {},
   "source": [
    "Now we can create a `GrandPotentialSolver` to solve the phasefield equations on our mesh.\n",
    "\n",
    "Note that the interface width is not the true physical one, but instead chosen to resolve structures of interest, but also be resolved by the mesh.\n",
    "\n",
    "Using this model we can choose it larger than physically true without changing underlying physics, to be able to simulate it efficiently.\n",
    "\n",
    "We can choose if the should enforce mass conservation, this will add one additional variable + equation, so make the solver slower. If we do not enforce mass conservation the total concentration over time will typically vary slightly."
   ]
  },
  {
   "cell_type": "code",
   "execution_count": null,
   "metadata": {},
   "outputs": [],
   "source": [
    "solver = gps.GrandPotentialSolver(mesh=mesh, components=[fosterite, fayalite],\n",
    "                                  phases=[liquid, solid],\n",
    "                                  molar_volume=4.3e-5,\n",
    "                                  interface_mobility=1e-13,\n",
    "                                  interface_energy=2.45,\n",
    "                                  temperature=1923.15,\n",
    "                                  interface_width=5e-5)\n",
    "solver.mass_conservation = False"
   ]
  },
  {
   "cell_type": "markdown",
   "metadata": {},
   "source": [
    "## Initial Conditions\n",
    "\n",
    "We can set initial conditions for the phases.\n",
    "Additionally we can set for each component for each phase an initial condition."
   ]
  },
  {
   "cell_type": "code",
   "execution_count": null,
   "metadata": {},
   "outputs": [],
   "source": [
    "tanh = lambda x: ngs.sinh(x)/ngs.cosh(x)\n",
    "shift = 0\n",
    "ic_concentration = { fayalite: { liquid: 0.999,\n",
    "                                solid: 0.98 } }\n",
    "ic_concentration[fosterite] = { liquid: 1-ic_concentration[fayalite][liquid],\n",
    "                                solid: 1-ic_concentration[fayalite][solid] }\n",
    "ic_liquid = 0.5 * tanh(ngs.sqrt(solver.m/solver.kappa) * (ngs.x-shift)) + 0.5\n",
    "solver.set_initial_conditions({ liquid: ic_liquid,\n",
    "                                solid: 1-ic_liquid },\n",
    "                              components=ic_concentration)\n",
    "scenes = []\n",
    "scenes.append(Draw(solver.get_phase(liquid), mesh, height=\"200px\"))\n",
    "cs = solver.get_concentrations()\n",
    "scenes.append(Draw(cs[fayalite], mesh, height=\"200px\"))\n",
    "scenes.append(Draw(cs[fosterite], mesh, height=\"200px\"))"
   ]
  },
  {
   "cell_type": "markdown",
   "metadata": {},
   "source": [
    "We can also compute some internal results, like the total concentration of fayalite:"
   ]
  },
  {
   "cell_type": "code",
   "execution_count": null,
   "metadata": {},
   "outputs": [],
   "source": [
    "print(ngs.Integrate(cs[fayalite], mesh))"
   ]
  },
  {
   "cell_type": "markdown",
   "metadata": {},
   "source": [
    "Let's set the timestep size and do one timestep:"
   ]
  },
  {
   "cell_type": "code",
   "execution_count": null,
   "metadata": {},
   "outputs": [],
   "source": [
    "solver.dt.Set(0.1)\n",
    "solver.do_timestep()"
   ]
  },
  {
   "cell_type": "markdown",
   "metadata": {},
   "source": [
    "We can add a callback function to our solve routine, to output some values of interest in each timestep, and also update our scenes (for example all 10 timesteps)"
   ]
  },
  {
   "cell_type": "code",
   "execution_count": null,
   "metadata": {},
   "outputs": [],
   "source": [
    "counter = 0\n",
    "def callback():\n",
    "    global counter\n",
    "    print(f\"Time: {solver.time}, energy: {ngs.Integrate(solver.get_energy(), mesh)}\")\n",
    "    counter += 1\n",
    "    if counter % 10 == 0:\n",
    "        for scene in scenes:\n",
    "            scene.Redraw()"
   ]
  },
  {
   "cell_type": "markdown",
   "metadata": {},
   "source": [
    "using the `solver` routine we can do multiple timesteps - calling the callback function after each successful.\n",
    "We can change the timestep size anytime, let's try for example setting it to 1 and doing some timesteps.\n",
    "\n",
    "We use the `TaskManager` so that computations run using NGSolve-parallelization"
   ]
  },
  {
   "cell_type": "code",
   "execution_count": null,
   "metadata": {},
   "outputs": [],
   "source": [
    "with ngs.TaskManager():\n",
    "    solver.dt.Set(1)\n",
    "    solver.solve(20, callback=callback)"
   ]
  },
  {
   "cell_type": "markdown",
   "metadata": {},
   "source": [
    "We see that the first timestep was not successive - 1 was to large. So the solver automatically reduced it and tried smaller timesteps until the newton method converged. We also see that our callback function was called outputting the time and energy of the system and in every 10th iteration updating the visualization.\n",
    "\n",
    "We can now also compute the total mass of component 1:"
   ]
  },
  {
   "cell_type": "code",
   "execution_count": null,
   "metadata": {},
   "outputs": [],
   "source": [
    "print(ngs.Integrate(cs[fayalite], mesh))"
   ]
  },
  {
   "cell_type": "markdown",
   "metadata": {},
   "source": [
    "We see we lost a bit of fayalite in the simulation. Enable `solver.mass_conservation` to see the difference."
   ]
  }
 ],
 "metadata": {
  "kernelspec": {
   "display_name": "Python 3 (ipykernel)",
   "language": "python",
   "name": "python3"
  },
  "language_info": {
   "codemirror_mode": {
    "name": "ipython",
    "version": 3
   },
   "file_extension": ".py",
   "mimetype": "text/x-python",
   "name": "python",
   "nbconvert_exporter": "python",
   "pygments_lexer": "ipython3",
   "version": "3.11.6"
  }
 },
 "nbformat": 4,
 "nbformat_minor": 4
}
