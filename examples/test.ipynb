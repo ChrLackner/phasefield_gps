{
 "cells": [
  {
   "cell_type": "code",
   "execution_count": 4,
   "metadata": {},
   "outputs": [],
   "source": [
    "import ngsolve as ngs\n",
    "from ngsolve.meshes import *\n",
    "from phasefield_gps import *\n",
    "# import netgen.gui\n"
   ]
  },
  {
   "cell_type": "code",
   "execution_count": 5,
   "metadata": {},
   "outputs": [
    {
     "name": "stdout",
     "output_type": "stream",
     "text": [
      "directional_surface_energies {(1, 0): 24500.0, (0, 1): 12250.0, (1, 1): 20335.0, (-1, 1): 20335.0}\n"
     ]
    }
   ],
   "source": [
    "\n",
    "dim = 2\n",
    "factor = 1e4\n",
    "if dim == 3:\n",
    "    directional_surface_energies = { (0,0,1) : 2.45 * factor,\n",
    "                                     (1,0,0) : 0.5 * 2.45 * factor,\n",
    "                                     (0,1,0) : 1.67 * 2.45 * factor,\n",
    "                                     (1,0,1) : 2.33 * 2.45 * factor,\n",
    "                                     (0,2,1) : 2.26 * 2.45 * factor,\n",
    "                                     (-1,0,1) : 2.33 * 2.45 * factor,\n",
    "                                     (0,-2,1) : 2.26 * 2.45 * factor }\n",
    "else:\n",
    "    directional_surface_energies = { (1,0) : 2.45 * factor,\n",
    "                                     (0,1) : 0.5 * 2.45 * factor,\n",
    "                                     (1,1) : 0.83 * 2.45 * factor,\n",
    "                                     (-1,1) : 0.83 * 2.45 * factor }\n",
    "print(\"directional_surface_energies\", directional_surface_energies)\n",
    "liquid = Phase(\"liquid\", diffusion_coefficient=3e-12)\n",
    "solid = Phase(\"solid\", diffusion_coefficient=3e-16,\n",
    "              surface_energies= { liquid: directional_surface_energies,\n",
    "                                  \"kappa\": 0.2 })\n",
    "\n",
    "fosterite = IdealSolutionComponent(name=\"Fosterite\",\n",
    "                                   phase_energies={ liquid: -2498560,\n",
    "                                                    solid: -2509411 })\n",
    "fayalite = IdealSolutionComponent(name=\"Fayalite\",\n",
    "                                  phase_energies={ liquid: -1980885,\n",
    "                                                   solid: -1951843 })\n",
    "\n",
    "# mesh\n",
    "nel = 30\n",
    "nx = nel\n",
    "ny = nel\n",
    "\n",
    "\n",
    "if dim == 3:\n",
    "    nz = nel\n",
    "    mesh = MakeStructured3DMesh(hexes=True, nx=nx, ny=ny, nz=nz,\n",
    "                                mapping= lambda x,y,z: (1e-3 * x-5e-4,\n",
    "                                                        1e-3 * y-5e-4,\n",
    "                                                        1e-3 * z-5e-4))\n",
    "else:\n",
    "    mesh = MakeStructured2DMesh(quads=True, nx=nx, ny=ny,\n",
    "                                periodic_x=False, periodic_y=False,\n",
    "                                mapping = lambda x,y: (1e-3*x-5e-4, 1e-3*y - 5e-4))\n"
   ]
  },
  {
   "cell_type": "code",
   "execution_count": 6,
   "metadata": {},
   "outputs": [],
   "source": [
    "from ngsolve.webgui import *"
   ]
  },
  {
   "cell_type": "code",
   "execution_count": 7,
   "metadata": {},
   "outputs": [
    {
     "data": {
      "application/vnd.jupyter.widget-view+json": {
       "model_id": "e3620871e81c453eb542eb99e0c868e2",
       "version_major": 2,
       "version_minor": 0
      },
      "text/plain": [
       "WebGuiWidget(layout=Layout(height='500px', width='100%'), value={'gui_settings': {}, 'ngsolve_version': '6.2.2…"
      ]
     },
     "metadata": {},
     "output_type": "display_data"
    },
    {
     "data": {
      "text/plain": [
       "BaseWebGuiScene"
      ]
     },
     "execution_count": 7,
     "metadata": {},
     "output_type": "execute_result"
    }
   ],
   "source": [
    "Draw(mesh)"
   ]
  },
  {
   "cell_type": "code",
   "execution_count": null,
   "metadata": {},
   "outputs": [],
   "source": []
  }
 ],
 "metadata": {
  "kernelspec": {
   "display_name": "Python 3",
   "language": "python",
   "name": "python3"
  },
  "language_info": {
   "codemirror_mode": {
    "name": "ipython",
    "version": 3
   },
   "file_extension": ".py",
   "mimetype": "text/x-python",
   "name": "python",
   "nbconvert_exporter": "python",
   "pygments_lexer": "ipython3",
   "version": "3.12.0"
  }
 },
 "nbformat": 4,
 "nbformat_minor": 2
}
